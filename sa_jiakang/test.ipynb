{
 "cells": [
  {
   "cell_type": "code",
   "execution_count": 8,
   "source": [
    "import numpy as np\n",
    "a = np.array(4)\n",
    "print(type(a))\n",
    "print(type(a+1))"
   ],
   "outputs": [
    {
     "output_type": "stream",
     "name": "stdout",
     "text": [
      "<class 'numpy.ndarray'>\n",
      "<class 'numpy.int64'>\n"
     ]
    }
   ],
   "metadata": {}
  }
 ],
 "metadata": {
  "orig_nbformat": 4,
  "language_info": {
   "name": "python",
   "version": "3.8.10",
   "mimetype": "text/x-python",
   "codemirror_mode": {
    "name": "ipython",
    "version": 3
   },
   "pygments_lexer": "ipython3",
   "nbconvert_exporter": "python",
   "file_extension": ".py"
  },
  "kernelspec": {
   "name": "python3",
   "display_name": "Python 3.8.10 64-bit ('.sa_jiakang': venv)"
  },
  "interpreter": {
   "hash": "8108713ddcaa2e440af07e934ef9b9fbc8d6f63762ca1ce00ab8f3955d23320d"
  }
 },
 "nbformat": 4,
 "nbformat_minor": 2
}